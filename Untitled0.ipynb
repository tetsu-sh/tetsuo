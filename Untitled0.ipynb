{
  "nbformat": 4,
  "nbformat_minor": 0,
  "metadata": {
    "colab": {
      "name": "Untitled0.ipynb",
      "version": "0.3.2",
      "provenance": [],
      "collapsed_sections": [],
      "include_colab_link": true
    }
  },
  "cells": [
    {
      "cell_type": "markdown",
      "metadata": {
        "id": "view-in-github",
        "colab_type": "text"
      },
      "source": [
        "[View in Colaboratory](https://colab.research.google.com/github/tetsu-sh/tetsuo/blob/master/Untitled0.ipynb)"
      ]
    },
    {
      "metadata": {
        "id": "Ps9VOemS6LcZ",
        "colab_type": "code",
        "colab": {}
      },
      "cell_type": "code",
      "source": [
        "from bs4 import BeautifulSoup"
      ],
      "execution_count": 0,
      "outputs": []
    },
    {
      "metadata": {
        "id": "tvhQXeBr6TrV",
        "colab_type": "code",
        "colab": {}
      },
      "cell_type": "code",
      "source": [
        "import requests\n",
        "import pandas as pd\n"
      ],
      "execution_count": 0,
      "outputs": []
    },
    {
      "metadata": {
        "id": "FFP6ePIx6qkk",
        "colab_type": "code",
        "colab": {}
      },
      "cell_type": "code",
      "source": [
        "response = requests.get(\"\")\n",
        "response_pars=BeautifulSoup(response.text,\"html.parser\")\n",
        "tags = response_pars.find_all(\"a\")\n",
        "titles=[]\n",
        "urls = []\n",
        "for tag in tags:\n",
        "  url = tag.get(\"href\")\n",
        "  urls.append(url)\n",
        "  title = tag.string\n",
        "  titles.append(title)\n",
        "\n",
        "titles_s=pd.Series(titles)\n",
        "urls_s = pd.Series(urls)\n",
        "goal = pd.concat([titles_s,urls_s],axis=1)\n",
        "goal.columns=[\"title\",\"url\"]\n",
        "extract=goal[goal[\"url\"].str.contains(\"review\",na=False)]\n",
        "extract\n",
        "\n",
        " "
      ],
      "execution_count": 0,
      "outputs": []
    },
    {
      "metadata": {
        "id": "jgRnlmpnShMX",
        "colab_type": "code",
        "colab": {}
      },
      "cell_type": "code",
      "source": [
        ""
      ],
      "execution_count": 0,
      "outputs": []
    }
  ]
}